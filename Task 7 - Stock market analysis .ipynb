{
 "cells": [
  {
   "cell_type": "markdown",
   "id": "609e0c16",
   "metadata": {},
   "source": [
    "# Name : Suman Jha\n"
   ]
  },
  {
   "cell_type": "markdown",
   "id": "c1a8422d",
   "metadata": {},
   "source": [
    "Task 7 - Stock Market Analysis and Prediciton"
   ]
  },
  {
   "cell_type": "code",
   "execution_count": 1,
   "id": "df35892a",
   "metadata": {},
   "outputs": [],
   "source": [
    "import pandas as pd\n",
    "import numpy as np\n",
    "import matplotlib.pyplot as plt"
   ]
  },
  {
   "cell_type": "code",
   "execution_count": 2,
   "id": "a7794c0c",
   "metadata": {},
   "outputs": [],
   "source": [
    "import yfinance as yf"
   ]
  },
  {
   "cell_type": "code",
   "execution_count": 3,
   "id": "7afbdb48",
   "metadata": {},
   "outputs": [
    {
     "name": "stdout",
     "output_type": "stream",
     "text": [
      "[*********************100%***********************]  1 of 1 completed\n"
     ]
    }
   ],
   "source": [
    "stockprice = yf.download('^BSESN', start='2015-01-01', end='2022-01-01')"
   ]
  },
  {
   "cell_type": "code",
   "execution_count": 4,
   "id": "fb63d35a",
   "metadata": {},
   "outputs": [],
   "source": [
    "stockheadlines=pd.read_csv('india-news-headlines.csv')"
   ]
  },
  {
   "cell_type": "code",
   "execution_count": 5,
   "id": "b9d7b838",
   "metadata": {},
   "outputs": [
    {
     "data": {
      "text/html": [
       "<div>\n",
       "<style scoped>\n",
       "    .dataframe tbody tr th:only-of-type {\n",
       "        vertical-align: middle;\n",
       "    }\n",
       "\n",
       "    .dataframe tbody tr th {\n",
       "        vertical-align: top;\n",
       "    }\n",
       "\n",
       "    .dataframe thead th {\n",
       "        text-align: right;\n",
       "    }\n",
       "</style>\n",
       "<table border=\"1\" class=\"dataframe\">\n",
       "  <thead>\n",
       "    <tr style=\"text-align: right;\">\n",
       "      <th></th>\n",
       "      <th>Open</th>\n",
       "      <th>High</th>\n",
       "      <th>Low</th>\n",
       "      <th>Close</th>\n",
       "      <th>Adj Close</th>\n",
       "      <th>Volume</th>\n",
       "    </tr>\n",
       "    <tr>\n",
       "      <th>Date</th>\n",
       "      <th></th>\n",
       "      <th></th>\n",
       "      <th></th>\n",
       "      <th></th>\n",
       "      <th></th>\n",
       "      <th></th>\n",
       "    </tr>\n",
       "  </thead>\n",
       "  <tbody>\n",
       "    <tr>\n",
       "      <th>2014-12-31</th>\n",
       "      <td>27358.300781</td>\n",
       "      <td>27527.240234</td>\n",
       "      <td>27346.000000</td>\n",
       "      <td>27499.419922</td>\n",
       "      <td>27499.419922</td>\n",
       "      <td>6500</td>\n",
       "    </tr>\n",
       "    <tr>\n",
       "      <th>2015-01-02</th>\n",
       "      <td>27521.279297</td>\n",
       "      <td>27937.470703</td>\n",
       "      <td>27519.259766</td>\n",
       "      <td>27887.900391</td>\n",
       "      <td>27887.900391</td>\n",
       "      <td>7400</td>\n",
       "    </tr>\n",
       "    <tr>\n",
       "      <th>2015-01-05</th>\n",
       "      <td>27978.429688</td>\n",
       "      <td>28064.490234</td>\n",
       "      <td>27786.849609</td>\n",
       "      <td>27842.320312</td>\n",
       "      <td>27842.320312</td>\n",
       "      <td>9200</td>\n",
       "    </tr>\n",
       "    <tr>\n",
       "      <th>2015-01-06</th>\n",
       "      <td>27694.230469</td>\n",
       "      <td>27698.929688</td>\n",
       "      <td>26937.060547</td>\n",
       "      <td>26987.460938</td>\n",
       "      <td>26987.460938</td>\n",
       "      <td>14100</td>\n",
       "    </tr>\n",
       "    <tr>\n",
       "      <th>2015-01-07</th>\n",
       "      <td>26983.429688</td>\n",
       "      <td>27051.599609</td>\n",
       "      <td>26776.119141</td>\n",
       "      <td>26908.820312</td>\n",
       "      <td>26908.820312</td>\n",
       "      <td>12200</td>\n",
       "    </tr>\n",
       "  </tbody>\n",
       "</table>\n",
       "</div>"
      ],
      "text/plain": [
       "                    Open          High           Low         Close  \\\n",
       "Date                                                                 \n",
       "2014-12-31  27358.300781  27527.240234  27346.000000  27499.419922   \n",
       "2015-01-02  27521.279297  27937.470703  27519.259766  27887.900391   \n",
       "2015-01-05  27978.429688  28064.490234  27786.849609  27842.320312   \n",
       "2015-01-06  27694.230469  27698.929688  26937.060547  26987.460938   \n",
       "2015-01-07  26983.429688  27051.599609  26776.119141  26908.820312   \n",
       "\n",
       "               Adj Close  Volume  \n",
       "Date                              \n",
       "2014-12-31  27499.419922    6500  \n",
       "2015-01-02  27887.900391    7400  \n",
       "2015-01-05  27842.320312    9200  \n",
       "2015-01-06  26987.460938   14100  \n",
       "2015-01-07  26908.820312   12200  "
      ]
     },
     "execution_count": 5,
     "metadata": {},
     "output_type": "execute_result"
    }
   ],
   "source": [
    "stockprice.head(5)"
   ]
  },
  {
   "cell_type": "code",
   "execution_count": 6,
   "id": "71c8c584",
   "metadata": {},
   "outputs": [
    {
     "data": {
      "text/html": [
       "<div>\n",
       "<style scoped>\n",
       "    .dataframe tbody tr th:only-of-type {\n",
       "        vertical-align: middle;\n",
       "    }\n",
       "\n",
       "    .dataframe tbody tr th {\n",
       "        vertical-align: top;\n",
       "    }\n",
       "\n",
       "    .dataframe thead th {\n",
       "        text-align: right;\n",
       "    }\n",
       "</style>\n",
       "<table border=\"1\" class=\"dataframe\">\n",
       "  <thead>\n",
       "    <tr style=\"text-align: right;\">\n",
       "      <th></th>\n",
       "      <th>publish_date</th>\n",
       "      <th>headline_category</th>\n",
       "      <th>headline_text</th>\n",
       "    </tr>\n",
       "  </thead>\n",
       "  <tbody>\n",
       "    <tr>\n",
       "      <th>0</th>\n",
       "      <td>20010102</td>\n",
       "      <td>unknown</td>\n",
       "      <td>Status quo will not be disturbed at Ayodhya; s...</td>\n",
       "    </tr>\n",
       "    <tr>\n",
       "      <th>1</th>\n",
       "      <td>20010102</td>\n",
       "      <td>unknown</td>\n",
       "      <td>Fissures in Hurriyat over Pak visit</td>\n",
       "    </tr>\n",
       "    <tr>\n",
       "      <th>2</th>\n",
       "      <td>20010102</td>\n",
       "      <td>unknown</td>\n",
       "      <td>America's unwanted heading for India?</td>\n",
       "    </tr>\n",
       "    <tr>\n",
       "      <th>3</th>\n",
       "      <td>20010102</td>\n",
       "      <td>unknown</td>\n",
       "      <td>For bigwigs; it is destination Goa</td>\n",
       "    </tr>\n",
       "    <tr>\n",
       "      <th>4</th>\n",
       "      <td>20010102</td>\n",
       "      <td>unknown</td>\n",
       "      <td>Extra buses to clear tourist traffic</td>\n",
       "    </tr>\n",
       "  </tbody>\n",
       "</table>\n",
       "</div>"
      ],
      "text/plain": [
       "   publish_date headline_category  \\\n",
       "0      20010102           unknown   \n",
       "1      20010102           unknown   \n",
       "2      20010102           unknown   \n",
       "3      20010102           unknown   \n",
       "4      20010102           unknown   \n",
       "\n",
       "                                       headline_text  \n",
       "0  Status quo will not be disturbed at Ayodhya; s...  \n",
       "1                Fissures in Hurriyat over Pak visit  \n",
       "2              America's unwanted heading for India?  \n",
       "3                 For bigwigs; it is destination Goa  \n",
       "4               Extra buses to clear tourist traffic  "
      ]
     },
     "execution_count": 6,
     "metadata": {},
     "output_type": "execute_result"
    }
   ],
   "source": [
    "stockheadlines.head(5)"
   ]
  },
  {
   "cell_type": "markdown",
   "id": "4a6a24ee",
   "metadata": {},
   "source": [
    "# Filtering the dataset"
   ]
  },
  {
   "cell_type": "code",
   "execution_count": 7,
   "id": "291b0bf2",
   "metadata": {},
   "outputs": [
    {
     "data": {
      "text/plain": [
       "(1722, 3650970)"
      ]
     },
     "execution_count": 7,
     "metadata": {},
     "output_type": "execute_result"
    }
   ],
   "source": [
    "len(stockprice), len(stockheadlines)"
   ]
  },
  {
   "cell_type": "code",
   "execution_count": 8,
   "id": "2308e294",
   "metadata": {},
   "outputs": [
    {
     "data": {
      "text/plain": [
       "(Open         False\n",
       " High         False\n",
       " Low          False\n",
       " Close        False\n",
       " Adj Close    False\n",
       " Volume       False\n",
       " dtype: bool,\n",
       " publish_date         False\n",
       " headline_category    False\n",
       " headline_text        False\n",
       " dtype: bool)"
      ]
     },
     "execution_count": 8,
     "metadata": {},
     "output_type": "execute_result"
    }
   ],
   "source": [
    "#checking dataset for empty values\n",
    "stockprice.isna().any(), stockheadlines.isna().any()"
   ]
  },
  {
   "cell_type": "code",
   "execution_count": 9,
   "id": "afb3e744",
   "metadata": {},
   "outputs": [],
   "source": [
    "#for stock price data removing all the duplicate values\n",
    "stockprice = stockprice.drop_duplicates()"
   ]
  },
  {
   "cell_type": "code",
   "execution_count": 10,
   "id": "efcf9cae",
   "metadata": {},
   "outputs": [],
   "source": [
    "# for stock price changing the colun type to similar object type\n",
    "stockprice.reset_index(inplace=True)\n",
    "stockprice['Date']=pd.to_datetime(stockprice['Date'],format='%Y-%m-%d')"
   ]
  },
  {
   "cell_type": "code",
   "execution_count": 11,
   "id": "e56fb159",
   "metadata": {},
   "outputs": [],
   "source": [
    "#filtering the important columns required \n",
    "stockprice=stockprice.filter(['Date', 'Close', 'Open', 'High', 'Low','Volume'])"
   ]
  },
  {
   "cell_type": "code",
   "execution_count": 12,
   "id": "61b6e425",
   "metadata": {},
   "outputs": [],
   "source": [
    "#setting column date as index column\n",
    "stockprice.set_index('Date', inplace=True)"
   ]
  },
  {
   "cell_type": "code",
   "execution_count": 13,
   "id": "e3423681",
   "metadata": {},
   "outputs": [
    {
     "data": {
      "text/html": [
       "<div>\n",
       "<style scoped>\n",
       "    .dataframe tbody tr th:only-of-type {\n",
       "        vertical-align: middle;\n",
       "    }\n",
       "\n",
       "    .dataframe tbody tr th {\n",
       "        vertical-align: top;\n",
       "    }\n",
       "\n",
       "    .dataframe thead th {\n",
       "        text-align: right;\n",
       "    }\n",
       "</style>\n",
       "<table border=\"1\" class=\"dataframe\">\n",
       "  <thead>\n",
       "    <tr style=\"text-align: right;\">\n",
       "      <th></th>\n",
       "      <th>Close</th>\n",
       "      <th>Open</th>\n",
       "      <th>High</th>\n",
       "      <th>Low</th>\n",
       "      <th>Volume</th>\n",
       "    </tr>\n",
       "    <tr>\n",
       "      <th>Date</th>\n",
       "      <th></th>\n",
       "      <th></th>\n",
       "      <th></th>\n",
       "      <th></th>\n",
       "      <th></th>\n",
       "    </tr>\n",
       "  </thead>\n",
       "  <tbody>\n",
       "    <tr>\n",
       "      <th>2014-12-31</th>\n",
       "      <td>27499.419922</td>\n",
       "      <td>27358.300781</td>\n",
       "      <td>27527.240234</td>\n",
       "      <td>27346.000000</td>\n",
       "      <td>6500</td>\n",
       "    </tr>\n",
       "    <tr>\n",
       "      <th>2015-01-02</th>\n",
       "      <td>27887.900391</td>\n",
       "      <td>27521.279297</td>\n",
       "      <td>27937.470703</td>\n",
       "      <td>27519.259766</td>\n",
       "      <td>7400</td>\n",
       "    </tr>\n",
       "    <tr>\n",
       "      <th>2015-01-05</th>\n",
       "      <td>27842.320312</td>\n",
       "      <td>27978.429688</td>\n",
       "      <td>28064.490234</td>\n",
       "      <td>27786.849609</td>\n",
       "      <td>9200</td>\n",
       "    </tr>\n",
       "    <tr>\n",
       "      <th>2015-01-06</th>\n",
       "      <td>26987.460938</td>\n",
       "      <td>27694.230469</td>\n",
       "      <td>27698.929688</td>\n",
       "      <td>26937.060547</td>\n",
       "      <td>14100</td>\n",
       "    </tr>\n",
       "    <tr>\n",
       "      <th>2015-01-07</th>\n",
       "      <td>26908.820312</td>\n",
       "      <td>26983.429688</td>\n",
       "      <td>27051.599609</td>\n",
       "      <td>26776.119141</td>\n",
       "      <td>12200</td>\n",
       "    </tr>\n",
       "  </tbody>\n",
       "</table>\n",
       "</div>"
      ],
      "text/plain": [
       "                   Close          Open          High           Low  Volume\n",
       "Date                                                                      \n",
       "2014-12-31  27499.419922  27358.300781  27527.240234  27346.000000    6500\n",
       "2015-01-02  27887.900391  27521.279297  27937.470703  27519.259766    7400\n",
       "2015-01-05  27842.320312  27978.429688  28064.490234  27786.849609    9200\n",
       "2015-01-06  26987.460938  27694.230469  27698.929688  26937.060547   14100\n",
       "2015-01-07  26908.820312  26983.429688  27051.599609  26776.119141   12200"
      ]
     },
     "execution_count": 13,
     "metadata": {},
     "output_type": "execute_result"
    }
   ],
   "source": [
    "#sorting the values of the dataset by the date\n",
    "stockprice.sort_values(by='Date', ascending=False)\n",
    "stockprice.head(5)"
   ]
  },
  {
   "cell_type": "markdown",
   "id": "77965ec3",
   "metadata": {},
   "source": [
    "stock headlines dataset"
   ]
  },
  {
   "cell_type": "code",
   "execution_count": 14,
   "id": "cc699f54",
   "metadata": {},
   "outputs": [],
   "source": [
    "#for stock headlines dataset removing all the duplicate values\n",
    "stockheadlines = stockheadlines.drop_duplicates()"
   ]
  },
  {
   "cell_type": "code",
   "execution_count": 15,
   "id": "153f72e8",
   "metadata": {},
   "outputs": [
    {
     "name": "stdout",
     "output_type": "stream",
     "text": [
      "<class 'pandas.core.frame.DataFrame'>\n",
      "Int64Index: 3626110 entries, 0 to 3650969\n",
      "Data columns (total 3 columns):\n",
      " #   Column             Dtype \n",
      "---  ------             ----- \n",
      " 0   publish_date       int64 \n",
      " 1   headline_category  object\n",
      " 2   headline_text      object\n",
      "dtypes: int64(1), object(2)\n",
      "memory usage: 110.7+ MB\n"
     ]
    }
   ],
   "source": [
    "stockheadlines.info()"
   ]
  },
  {
   "cell_type": "code",
   "execution_count": 16,
   "id": "f4943902",
   "metadata": {},
   "outputs": [],
   "source": [
    "#lets now convert date column to datetime type from string type\n",
    "stockheadlines['publish_date']=stockheadlines['publish_date'].astype(str)\n",
    "stockheadlines['publish_date']=stockheadlines['publish_date'].apply(lambda x:x[0:4]+'-'+x[4:6]+'-'+x[6:8])\n",
    "stockheadlines['publish_date']=pd.to_datetime(stockheadlines['publish_date']).dt.normalize()"
   ]
  },
  {
   "cell_type": "code",
   "execution_count": 17,
   "id": "a7d71459",
   "metadata": {},
   "outputs": [],
   "source": [
    "#filtering the important columns\n",
    "stockheadlines = stockheadlines.filter(['publish_date', 'headline_text'])\n",
    "\n",
    "#grouping the headlines by date\n",
    "stockheadlines = stockheadlines.groupby(['publish_date'])['headline_text'].apply(lambda x: ','.join(x)).reset_index()"
   ]
  },
  {
   "cell_type": "code",
   "execution_count": 18,
   "id": "9d7f404d",
   "metadata": {},
   "outputs": [],
   "source": [
    "#setting column date as index  column\n",
    "stockheadlines.set_index('publish_date', inplace=True)"
   ]
  },
  {
   "cell_type": "code",
   "execution_count": 19,
   "id": "7f12772b",
   "metadata": {},
   "outputs": [],
   "source": [
    "#sorting the headlines \n",
    "stockheadlines = stockheadlines.sort_index(axis=0, ascending=True)"
   ]
  },
  {
   "cell_type": "code",
   "execution_count": 20,
   "id": "9cb2cd7d",
   "metadata": {},
   "outputs": [
    {
     "data": {
      "text/html": [
       "<div>\n",
       "<style scoped>\n",
       "    .dataframe tbody tr th:only-of-type {\n",
       "        vertical-align: middle;\n",
       "    }\n",
       "\n",
       "    .dataframe tbody tr th {\n",
       "        vertical-align: top;\n",
       "    }\n",
       "\n",
       "    .dataframe thead th {\n",
       "        text-align: right;\n",
       "    }\n",
       "</style>\n",
       "<table border=\"1\" class=\"dataframe\">\n",
       "  <thead>\n",
       "    <tr style=\"text-align: right;\">\n",
       "      <th></th>\n",
       "      <th>headline_text</th>\n",
       "    </tr>\n",
       "    <tr>\n",
       "      <th>publish_date</th>\n",
       "      <th></th>\n",
       "    </tr>\n",
       "  </thead>\n",
       "  <tbody>\n",
       "    <tr>\n",
       "      <th>2001-01-02</th>\n",
       "      <td>Status quo will not be disturbed at Ayodhya; s...</td>\n",
       "    </tr>\n",
       "    <tr>\n",
       "      <th>2001-01-03</th>\n",
       "      <td>Powerless north India gropes in the dark,Think...</td>\n",
       "    </tr>\n",
       "    <tr>\n",
       "      <th>2001-01-04</th>\n",
       "      <td>The string that pulled Stephen Hawking to Indi...</td>\n",
       "    </tr>\n",
       "    <tr>\n",
       "      <th>2001-01-05</th>\n",
       "      <td>Light combat craft takes India into club class...</td>\n",
       "    </tr>\n",
       "    <tr>\n",
       "      <th>2001-01-06</th>\n",
       "      <td>Light combat craft takes India into club class...</td>\n",
       "    </tr>\n",
       "    <tr>\n",
       "      <th>2001-01-07</th>\n",
       "      <td>Muslim body rules out talks on Ayodhya,Bajrang...</td>\n",
       "    </tr>\n",
       "    <tr>\n",
       "      <th>2001-01-08</th>\n",
       "      <td>Sangh Parivar; Babri panel up the ante,Frontru...</td>\n",
       "    </tr>\n",
       "    <tr>\n",
       "      <th>2001-01-09</th>\n",
       "      <td>Financier Bharat Shah held for alleged links w...</td>\n",
       "    </tr>\n",
       "    <tr>\n",
       "      <th>2001-01-10</th>\n",
       "      <td>Fend for yourselves; Pande tells doctors,Burea...</td>\n",
       "    </tr>\n",
       "    <tr>\n",
       "      <th>2001-01-23</th>\n",
       "      <td>Sonia takes on the Hindutva brigade,Congress h...</td>\n",
       "    </tr>\n",
       "  </tbody>\n",
       "</table>\n",
       "</div>"
      ],
      "text/plain": [
       "                                                  headline_text\n",
       "publish_date                                                   \n",
       "2001-01-02    Status quo will not be disturbed at Ayodhya; s...\n",
       "2001-01-03    Powerless north India gropes in the dark,Think...\n",
       "2001-01-04    The string that pulled Stephen Hawking to Indi...\n",
       "2001-01-05    Light combat craft takes India into club class...\n",
       "2001-01-06    Light combat craft takes India into club class...\n",
       "2001-01-07    Muslim body rules out talks on Ayodhya,Bajrang...\n",
       "2001-01-08    Sangh Parivar; Babri panel up the ante,Frontru...\n",
       "2001-01-09    Financier Bharat Shah held for alleged links w...\n",
       "2001-01-10    Fend for yourselves; Pande tells doctors,Burea...\n",
       "2001-01-23    Sonia takes on the Hindutva brigade,Congress h..."
      ]
     },
     "execution_count": 20,
     "metadata": {},
     "output_type": "execute_result"
    }
   ],
   "source": [
    "stockheadlines.head(10)"
   ]
  },
  {
   "cell_type": "markdown",
   "id": "1845a5a8",
   "metadata": {},
   "source": [
    "# combining the both dataset"
   ]
  },
  {
   "cell_type": "code",
   "execution_count": 28,
   "id": "5c2cf7a2",
   "metadata": {},
   "outputs": [],
   "source": [
    "stock = pd.concat([stockprice, stockheadlines], axis=1)\n",
    "stock.dropna(axis=0, inplace=True)"
   ]
  },
  {
   "cell_type": "code",
   "execution_count": 29,
   "id": "30deb9ee",
   "metadata": {},
   "outputs": [
    {
     "data": {
      "text/html": [
       "<div>\n",
       "<style scoped>\n",
       "    .dataframe tbody tr th:only-of-type {\n",
       "        vertical-align: middle;\n",
       "    }\n",
       "\n",
       "    .dataframe tbody tr th {\n",
       "        vertical-align: top;\n",
       "    }\n",
       "\n",
       "    .dataframe thead th {\n",
       "        text-align: right;\n",
       "    }\n",
       "</style>\n",
       "<table border=\"1\" class=\"dataframe\">\n",
       "  <thead>\n",
       "    <tr style=\"text-align: right;\">\n",
       "      <th></th>\n",
       "      <th>Close</th>\n",
       "      <th>Open</th>\n",
       "      <th>High</th>\n",
       "      <th>Low</th>\n",
       "      <th>Volume</th>\n",
       "      <th>headline_text</th>\n",
       "    </tr>\n",
       "  </thead>\n",
       "  <tbody>\n",
       "    <tr>\n",
       "      <th>2014-12-31</th>\n",
       "      <td>27499.419922</td>\n",
       "      <td>27358.300781</td>\n",
       "      <td>27527.240234</td>\n",
       "      <td>27346.000000</td>\n",
       "      <td>6500.0</td>\n",
       "      <td>Why breakfast is so important,No need to banis...</td>\n",
       "    </tr>\n",
       "    <tr>\n",
       "      <th>2015-01-02</th>\n",
       "      <td>27887.900391</td>\n",
       "      <td>27521.279297</td>\n",
       "      <td>27937.470703</td>\n",
       "      <td>27519.259766</td>\n",
       "      <td>7400.0</td>\n",
       "      <td>Drink smart with these party tips,How to say s...</td>\n",
       "    </tr>\n",
       "    <tr>\n",
       "      <th>2015-01-05</th>\n",
       "      <td>27842.320312</td>\n",
       "      <td>27978.429688</td>\n",
       "      <td>28064.490234</td>\n",
       "      <td>27786.849609</td>\n",
       "      <td>9200.0</td>\n",
       "      <td>Recipe: Strawberry cupcakes,Recipe: Kaju jeera...</td>\n",
       "    </tr>\n",
       "    <tr>\n",
       "      <th>2015-01-06</th>\n",
       "      <td>26987.460938</td>\n",
       "      <td>27694.230469</td>\n",
       "      <td>27698.929688</td>\n",
       "      <td>26937.060547</td>\n",
       "      <td>14100.0</td>\n",
       "      <td>Turn to gardening for happiness,Teeth jeweller...</td>\n",
       "    </tr>\n",
       "    <tr>\n",
       "      <th>2015-01-07</th>\n",
       "      <td>26908.820312</td>\n",
       "      <td>26983.429688</td>\n",
       "      <td>27051.599609</td>\n",
       "      <td>26776.119141</td>\n",
       "      <td>12200.0</td>\n",
       "      <td>Can ex-lovers be friends?,Is water diet bad fo...</td>\n",
       "    </tr>\n",
       "    <tr>\n",
       "      <th>...</th>\n",
       "      <td>...</td>\n",
       "      <td>...</td>\n",
       "      <td>...</td>\n",
       "      <td>...</td>\n",
       "      <td>...</td>\n",
       "      <td>...</td>\n",
       "    </tr>\n",
       "    <tr>\n",
       "      <th>2021-12-27</th>\n",
       "      <td>57420.238281</td>\n",
       "      <td>56948.328125</td>\n",
       "      <td>57512.011719</td>\n",
       "      <td>56543.078125</td>\n",
       "      <td>5700.0</td>\n",
       "      <td>Goa sees 48 new Covid infections,Here's how Ja...</td>\n",
       "    </tr>\n",
       "    <tr>\n",
       "      <th>2021-12-28</th>\n",
       "      <td>57897.480469</td>\n",
       "      <td>57751.210938</td>\n",
       "      <td>57952.480469</td>\n",
       "      <td>57650.289062</td>\n",
       "      <td>5500.0</td>\n",
       "      <td>Horoscope Today; 28 December 2021: Check astro...</td>\n",
       "    </tr>\n",
       "    <tr>\n",
       "      <th>2021-12-29</th>\n",
       "      <td>57806.488281</td>\n",
       "      <td>57892.308594</td>\n",
       "      <td>58097.070312</td>\n",
       "      <td>57684.578125</td>\n",
       "      <td>5300.0</td>\n",
       "      <td>Horoscope Today; 29 December 2021: Check astro...</td>\n",
       "    </tr>\n",
       "    <tr>\n",
       "      <th>2021-12-30</th>\n",
       "      <td>57794.320312</td>\n",
       "      <td>57755.398438</td>\n",
       "      <td>58010.031250</td>\n",
       "      <td>57578.988281</td>\n",
       "      <td>7300.0</td>\n",
       "      <td>Gradual rise in temperature likely in the next...</td>\n",
       "    </tr>\n",
       "    <tr>\n",
       "      <th>2021-12-31</th>\n",
       "      <td>58253.820312</td>\n",
       "      <td>57849.761719</td>\n",
       "      <td>58409.300781</td>\n",
       "      <td>57846.519531</td>\n",
       "      <td>7000.0</td>\n",
       "      <td>Romantic thriller Love You Rachchu highlights ...</td>\n",
       "    </tr>\n",
       "  </tbody>\n",
       "</table>\n",
       "<p>1722 rows × 6 columns</p>\n",
       "</div>"
      ],
      "text/plain": [
       "                   Close          Open          High           Low   Volume  \\\n",
       "2014-12-31  27499.419922  27358.300781  27527.240234  27346.000000   6500.0   \n",
       "2015-01-02  27887.900391  27521.279297  27937.470703  27519.259766   7400.0   \n",
       "2015-01-05  27842.320312  27978.429688  28064.490234  27786.849609   9200.0   \n",
       "2015-01-06  26987.460938  27694.230469  27698.929688  26937.060547  14100.0   \n",
       "2015-01-07  26908.820312  26983.429688  27051.599609  26776.119141  12200.0   \n",
       "...                  ...           ...           ...           ...      ...   \n",
       "2021-12-27  57420.238281  56948.328125  57512.011719  56543.078125   5700.0   \n",
       "2021-12-28  57897.480469  57751.210938  57952.480469  57650.289062   5500.0   \n",
       "2021-12-29  57806.488281  57892.308594  58097.070312  57684.578125   5300.0   \n",
       "2021-12-30  57794.320312  57755.398438  58010.031250  57578.988281   7300.0   \n",
       "2021-12-31  58253.820312  57849.761719  58409.300781  57846.519531   7000.0   \n",
       "\n",
       "                                                headline_text  \n",
       "2014-12-31  Why breakfast is so important,No need to banis...  \n",
       "2015-01-02  Drink smart with these party tips,How to say s...  \n",
       "2015-01-05  Recipe: Strawberry cupcakes,Recipe: Kaju jeera...  \n",
       "2015-01-06  Turn to gardening for happiness,Teeth jeweller...  \n",
       "2015-01-07  Can ex-lovers be friends?,Is water diet bad fo...  \n",
       "...                                                       ...  \n",
       "2021-12-27  Goa sees 48 new Covid infections,Here's how Ja...  \n",
       "2021-12-28  Horoscope Today; 28 December 2021: Check astro...  \n",
       "2021-12-29  Horoscope Today; 29 December 2021: Check astro...  \n",
       "2021-12-30  Gradual rise in temperature likely in the next...  \n",
       "2021-12-31  Romantic thriller Love You Rachchu highlights ...  \n",
       "\n",
       "[1722 rows x 6 columns]"
      ]
     },
     "execution_count": 29,
     "metadata": {},
     "output_type": "execute_result"
    }
   ],
   "source": [
    "stock"
   ]
  },
  {
   "cell_type": "markdown",
   "id": "5c76a0ae",
   "metadata": {},
   "source": [
    "# Calculating Sentiment Scores"
   ]
  },
  {
   "cell_type": "code",
   "execution_count": 30,
   "id": "043b78e8",
   "metadata": {},
   "outputs": [],
   "source": [
    "from nltk.sentiment.vader import SentimentIntensityAnalyzer\n",
    "import unicodedata"
   ]
  },
  {
   "cell_type": "code",
   "execution_count": 31,
   "id": "65842ff7",
   "metadata": {},
   "outputs": [],
   "source": [
    "sid= SentimentIntensityAnalyzer()"
   ]
  },
  {
   "cell_type": "code",
   "execution_count": 40,
   "id": "ebdeacca",
   "metadata": {},
   "outputs": [],
   "source": [
    "polarity = [round(sid.polarity_scores(i)['compound'], 2) for i in stock['headline_text']]\n",
    "stock['compound'] = polarity"
   ]
  },
  {
   "cell_type": "code",
   "execution_count": 41,
   "id": "4610c744",
   "metadata": {},
   "outputs": [],
   "source": [
    "polarity = [round(sid.polarity_scores(i)['neg'], 2) for i in stock['headline_text']]\n",
    "stock['negative'] = polarity"
   ]
  },
  {
   "cell_type": "code",
   "execution_count": 42,
   "id": "a68438d7",
   "metadata": {},
   "outputs": [],
   "source": [
    "polarity = [round(sid.polarity_scores(i)['neu'], 2) for i in stock['headline_text']]\n",
    "stock['neutral'] = polarity"
   ]
  },
  {
   "cell_type": "code",
   "execution_count": 43,
   "id": "c6e07d7d",
   "metadata": {},
   "outputs": [],
   "source": [
    "polarity = [round(sid.polarity_scores(i)['pos'], 2) for i in stock['headline_text']]\n",
    "stock['positive'] = polarity"
   ]
  },
  {
   "cell_type": "code",
   "execution_count": 44,
   "id": "53acb59e",
   "metadata": {},
   "outputs": [
    {
     "data": {
      "text/html": [
       "<div>\n",
       "<style scoped>\n",
       "    .dataframe tbody tr th:only-of-type {\n",
       "        vertical-align: middle;\n",
       "    }\n",
       "\n",
       "    .dataframe tbody tr th {\n",
       "        vertical-align: top;\n",
       "    }\n",
       "\n",
       "    .dataframe thead th {\n",
       "        text-align: right;\n",
       "    }\n",
       "</style>\n",
       "<table border=\"1\" class=\"dataframe\">\n",
       "  <thead>\n",
       "    <tr style=\"text-align: right;\">\n",
       "      <th></th>\n",
       "      <th>Close</th>\n",
       "      <th>Open</th>\n",
       "      <th>High</th>\n",
       "      <th>Low</th>\n",
       "      <th>Volume</th>\n",
       "      <th>headline_text</th>\n",
       "      <th>compound</th>\n",
       "      <th>negative</th>\n",
       "      <th>neutral</th>\n",
       "      <th>positive</th>\n",
       "    </tr>\n",
       "  </thead>\n",
       "  <tbody>\n",
       "    <tr>\n",
       "      <th>2014-12-31</th>\n",
       "      <td>27499.419922</td>\n",
       "      <td>27358.300781</td>\n",
       "      <td>27527.240234</td>\n",
       "      <td>27346.000000</td>\n",
       "      <td>6500.0</td>\n",
       "      <td>Why breakfast is so important,No need to banis...</td>\n",
       "      <td>-1.0</td>\n",
       "      <td>0.13</td>\n",
       "      <td>0.78</td>\n",
       "      <td>0.09</td>\n",
       "    </tr>\n",
       "    <tr>\n",
       "      <th>2015-01-02</th>\n",
       "      <td>27887.900391</td>\n",
       "      <td>27521.279297</td>\n",
       "      <td>27937.470703</td>\n",
       "      <td>27519.259766</td>\n",
       "      <td>7400.0</td>\n",
       "      <td>Drink smart with these party tips,How to say s...</td>\n",
       "      <td>-1.0</td>\n",
       "      <td>0.13</td>\n",
       "      <td>0.77</td>\n",
       "      <td>0.10</td>\n",
       "    </tr>\n",
       "    <tr>\n",
       "      <th>2015-01-05</th>\n",
       "      <td>27842.320312</td>\n",
       "      <td>27978.429688</td>\n",
       "      <td>28064.490234</td>\n",
       "      <td>27786.849609</td>\n",
       "      <td>9200.0</td>\n",
       "      <td>Recipe: Strawberry cupcakes,Recipe: Kaju jeera...</td>\n",
       "      <td>-1.0</td>\n",
       "      <td>0.12</td>\n",
       "      <td>0.77</td>\n",
       "      <td>0.11</td>\n",
       "    </tr>\n",
       "    <tr>\n",
       "      <th>2015-01-06</th>\n",
       "      <td>26987.460938</td>\n",
       "      <td>27694.230469</td>\n",
       "      <td>27698.929688</td>\n",
       "      <td>26937.060547</td>\n",
       "      <td>14100.0</td>\n",
       "      <td>Turn to gardening for happiness,Teeth jeweller...</td>\n",
       "      <td>-1.0</td>\n",
       "      <td>0.10</td>\n",
       "      <td>0.83</td>\n",
       "      <td>0.07</td>\n",
       "    </tr>\n",
       "    <tr>\n",
       "      <th>2015-01-07</th>\n",
       "      <td>26908.820312</td>\n",
       "      <td>26983.429688</td>\n",
       "      <td>27051.599609</td>\n",
       "      <td>26776.119141</td>\n",
       "      <td>12200.0</td>\n",
       "      <td>Can ex-lovers be friends?,Is water diet bad fo...</td>\n",
       "      <td>-1.0</td>\n",
       "      <td>0.15</td>\n",
       "      <td>0.77</td>\n",
       "      <td>0.08</td>\n",
       "    </tr>\n",
       "  </tbody>\n",
       "</table>\n",
       "</div>"
      ],
      "text/plain": [
       "                   Close          Open          High           Low   Volume  \\\n",
       "2014-12-31  27499.419922  27358.300781  27527.240234  27346.000000   6500.0   \n",
       "2015-01-02  27887.900391  27521.279297  27937.470703  27519.259766   7400.0   \n",
       "2015-01-05  27842.320312  27978.429688  28064.490234  27786.849609   9200.0   \n",
       "2015-01-06  26987.460938  27694.230469  27698.929688  26937.060547  14100.0   \n",
       "2015-01-07  26908.820312  26983.429688  27051.599609  26776.119141  12200.0   \n",
       "\n",
       "                                                headline_text  compound  \\\n",
       "2014-12-31  Why breakfast is so important,No need to banis...      -1.0   \n",
       "2015-01-02  Drink smart with these party tips,How to say s...      -1.0   \n",
       "2015-01-05  Recipe: Strawberry cupcakes,Recipe: Kaju jeera...      -1.0   \n",
       "2015-01-06  Turn to gardening for happiness,Teeth jeweller...      -1.0   \n",
       "2015-01-07  Can ex-lovers be friends?,Is water diet bad fo...      -1.0   \n",
       "\n",
       "            negative  neutral  positive  \n",
       "2014-12-31      0.13     0.78      0.09  \n",
       "2015-01-02      0.13     0.77      0.10  \n",
       "2015-01-05      0.12     0.77      0.11  \n",
       "2015-01-06      0.10     0.83      0.07  \n",
       "2015-01-07      0.15     0.77      0.08  "
      ]
     },
     "execution_count": 44,
     "metadata": {},
     "output_type": "execute_result"
    }
   ],
   "source": [
    "stock.head(5)"
   ]
  },
  {
   "cell_type": "code",
   "execution_count": 45,
   "id": "009ab21f",
   "metadata": {},
   "outputs": [],
   "source": [
    "#removing the headline data as we dont need it anymore\n",
    "stock.drop(['headline_text'], inplace=True, axis=1)"
   ]
  },
  {
   "cell_type": "code",
   "execution_count": 46,
   "id": "7abd73bd",
   "metadata": {},
   "outputs": [],
   "source": [
    "#rearranging the column\n",
    "stock = stock[['Close','compound','negative','neutral','positive','Open','High','Low','Volume']]"
   ]
  },
  {
   "cell_type": "code",
   "execution_count": 47,
   "id": "9fedb34c",
   "metadata": {},
   "outputs": [
    {
     "data": {
      "text/html": [
       "<div>\n",
       "<style scoped>\n",
       "    .dataframe tbody tr th:only-of-type {\n",
       "        vertical-align: middle;\n",
       "    }\n",
       "\n",
       "    .dataframe tbody tr th {\n",
       "        vertical-align: top;\n",
       "    }\n",
       "\n",
       "    .dataframe thead th {\n",
       "        text-align: right;\n",
       "    }\n",
       "</style>\n",
       "<table border=\"1\" class=\"dataframe\">\n",
       "  <thead>\n",
       "    <tr style=\"text-align: right;\">\n",
       "      <th></th>\n",
       "      <th>Close</th>\n",
       "      <th>compound</th>\n",
       "      <th>negative</th>\n",
       "      <th>neutral</th>\n",
       "      <th>positive</th>\n",
       "      <th>Open</th>\n",
       "      <th>High</th>\n",
       "      <th>Low</th>\n",
       "      <th>Volume</th>\n",
       "    </tr>\n",
       "  </thead>\n",
       "  <tbody>\n",
       "    <tr>\n",
       "      <th>2014-12-31</th>\n",
       "      <td>27499.419922</td>\n",
       "      <td>-1.0</td>\n",
       "      <td>0.13</td>\n",
       "      <td>0.78</td>\n",
       "      <td>0.09</td>\n",
       "      <td>27358.300781</td>\n",
       "      <td>27527.240234</td>\n",
       "      <td>27346.000000</td>\n",
       "      <td>6500.0</td>\n",
       "    </tr>\n",
       "    <tr>\n",
       "      <th>2015-01-02</th>\n",
       "      <td>27887.900391</td>\n",
       "      <td>-1.0</td>\n",
       "      <td>0.13</td>\n",
       "      <td>0.77</td>\n",
       "      <td>0.10</td>\n",
       "      <td>27521.279297</td>\n",
       "      <td>27937.470703</td>\n",
       "      <td>27519.259766</td>\n",
       "      <td>7400.0</td>\n",
       "    </tr>\n",
       "    <tr>\n",
       "      <th>2015-01-05</th>\n",
       "      <td>27842.320312</td>\n",
       "      <td>-1.0</td>\n",
       "      <td>0.12</td>\n",
       "      <td>0.77</td>\n",
       "      <td>0.11</td>\n",
       "      <td>27978.429688</td>\n",
       "      <td>28064.490234</td>\n",
       "      <td>27786.849609</td>\n",
       "      <td>9200.0</td>\n",
       "    </tr>\n",
       "    <tr>\n",
       "      <th>2015-01-06</th>\n",
       "      <td>26987.460938</td>\n",
       "      <td>-1.0</td>\n",
       "      <td>0.10</td>\n",
       "      <td>0.83</td>\n",
       "      <td>0.07</td>\n",
       "      <td>27694.230469</td>\n",
       "      <td>27698.929688</td>\n",
       "      <td>26937.060547</td>\n",
       "      <td>14100.0</td>\n",
       "    </tr>\n",
       "    <tr>\n",
       "      <th>2015-01-07</th>\n",
       "      <td>26908.820312</td>\n",
       "      <td>-1.0</td>\n",
       "      <td>0.15</td>\n",
       "      <td>0.77</td>\n",
       "      <td>0.08</td>\n",
       "      <td>26983.429688</td>\n",
       "      <td>27051.599609</td>\n",
       "      <td>26776.119141</td>\n",
       "      <td>12200.0</td>\n",
       "    </tr>\n",
       "  </tbody>\n",
       "</table>\n",
       "</div>"
      ],
      "text/plain": [
       "                   Close  compound  negative  neutral  positive          Open  \\\n",
       "2014-12-31  27499.419922      -1.0      0.13     0.78      0.09  27358.300781   \n",
       "2015-01-02  27887.900391      -1.0      0.13     0.77      0.10  27521.279297   \n",
       "2015-01-05  27842.320312      -1.0      0.12     0.77      0.11  27978.429688   \n",
       "2015-01-06  26987.460938      -1.0      0.10     0.83      0.07  27694.230469   \n",
       "2015-01-07  26908.820312      -1.0      0.15     0.77      0.08  26983.429688   \n",
       "\n",
       "                    High           Low   Volume  \n",
       "2014-12-31  27527.240234  27346.000000   6500.0  \n",
       "2015-01-02  27937.470703  27519.259766   7400.0  \n",
       "2015-01-05  28064.490234  27786.849609   9200.0  \n",
       "2015-01-06  27698.929688  26937.060547  14100.0  \n",
       "2015-01-07  27051.599609  26776.119141  12200.0  "
      ]
     },
     "execution_count": 47,
     "metadata": {},
     "output_type": "execute_result"
    }
   ],
   "source": [
    "stock.head(5)"
   ]
  },
  {
   "cell_type": "markdown",
   "id": "d2368283",
   "metadata": {},
   "source": [
    "# Feature Engineering of the Stock Dataset"
   ]
  },
  {
   "cell_type": "code",
   "execution_count": 48,
   "id": "e507999c",
   "metadata": {},
   "outputs": [
    {
     "data": {
      "text/plain": [
       "Close       False\n",
       "compound    False\n",
       "negative    False\n",
       "neutral     False\n",
       "positive    False\n",
       "Open        False\n",
       "High        False\n",
       "Low         False\n",
       "Volume      False\n",
       "dtype: bool"
      ]
     },
     "execution_count": 48,
     "metadata": {},
     "output_type": "execute_result"
    }
   ],
   "source": [
    "stock.isna().any()"
   ]
  },
  {
   "cell_type": "code",
   "execution_count": 49,
   "id": "61abc93c",
   "metadata": {},
   "outputs": [
    {
     "data": {
      "text/html": [
       "<div>\n",
       "<style scoped>\n",
       "    .dataframe tbody tr th:only-of-type {\n",
       "        vertical-align: middle;\n",
       "    }\n",
       "\n",
       "    .dataframe tbody tr th {\n",
       "        vertical-align: top;\n",
       "    }\n",
       "\n",
       "    .dataframe thead th {\n",
       "        text-align: right;\n",
       "    }\n",
       "</style>\n",
       "<table border=\"1\" class=\"dataframe\">\n",
       "  <thead>\n",
       "    <tr style=\"text-align: right;\">\n",
       "      <th></th>\n",
       "      <th>Close</th>\n",
       "      <th>compound</th>\n",
       "      <th>negative</th>\n",
       "      <th>neutral</th>\n",
       "      <th>positive</th>\n",
       "      <th>Open</th>\n",
       "      <th>High</th>\n",
       "      <th>Low</th>\n",
       "      <th>Volume</th>\n",
       "    </tr>\n",
       "  </thead>\n",
       "  <tbody>\n",
       "    <tr>\n",
       "      <th>count</th>\n",
       "      <td>1722.000000</td>\n",
       "      <td>1722.000000</td>\n",
       "      <td>1722.000000</td>\n",
       "      <td>1722.000000</td>\n",
       "      <td>1722.000000</td>\n",
       "      <td>1722.000000</td>\n",
       "      <td>1722.000000</td>\n",
       "      <td>1722.000000</td>\n",
       "      <td>1.722000e+03</td>\n",
       "    </tr>\n",
       "    <tr>\n",
       "      <th>mean</th>\n",
       "      <td>35743.493866</td>\n",
       "      <td>-0.959344</td>\n",
       "      <td>0.131655</td>\n",
       "      <td>0.782468</td>\n",
       "      <td>0.086388</td>\n",
       "      <td>35792.291552</td>\n",
       "      <td>35959.928591</td>\n",
       "      <td>35536.670009</td>\n",
       "      <td>1.989195e+05</td>\n",
       "    </tr>\n",
       "    <tr>\n",
       "      <th>std</th>\n",
       "      <td>9058.745407</td>\n",
       "      <td>0.273282</td>\n",
       "      <td>0.017228</td>\n",
       "      <td>0.022284</td>\n",
       "      <td>0.014618</td>\n",
       "      <td>9068.877720</td>\n",
       "      <td>9101.489910</td>\n",
       "      <td>9007.033788</td>\n",
       "      <td>1.797850e+06</td>\n",
       "    </tr>\n",
       "    <tr>\n",
       "      <th>min</th>\n",
       "      <td>22951.830078</td>\n",
       "      <td>-1.000000</td>\n",
       "      <td>0.070000</td>\n",
       "      <td>0.730000</td>\n",
       "      <td>0.040000</td>\n",
       "      <td>23060.390625</td>\n",
       "      <td>23142.960938</td>\n",
       "      <td>22494.609375</td>\n",
       "      <td>1.000000e+02</td>\n",
       "    </tr>\n",
       "    <tr>\n",
       "      <th>25%</th>\n",
       "      <td>28193.586914</td>\n",
       "      <td>-1.000000</td>\n",
       "      <td>0.120000</td>\n",
       "      <td>0.770000</td>\n",
       "      <td>0.080000</td>\n",
       "      <td>28217.094727</td>\n",
       "      <td>28334.353027</td>\n",
       "      <td>28068.942871</td>\n",
       "      <td>9.800000e+03</td>\n",
       "    </tr>\n",
       "    <tr>\n",
       "      <th>50%</th>\n",
       "      <td>34323.654297</td>\n",
       "      <td>-1.000000</td>\n",
       "      <td>0.130000</td>\n",
       "      <td>0.780000</td>\n",
       "      <td>0.090000</td>\n",
       "      <td>34403.906250</td>\n",
       "      <td>34528.044922</td>\n",
       "      <td>34125.755859</td>\n",
       "      <td>1.290000e+04</td>\n",
       "    </tr>\n",
       "    <tr>\n",
       "      <th>75%</th>\n",
       "      <td>39089.031250</td>\n",
       "      <td>-1.000000</td>\n",
       "      <td>0.140000</td>\n",
       "      <td>0.800000</td>\n",
       "      <td>0.100000</td>\n",
       "      <td>39164.603516</td>\n",
       "      <td>39351.420898</td>\n",
       "      <td>38899.116211</td>\n",
       "      <td>1.820000e+04</td>\n",
       "    </tr>\n",
       "    <tr>\n",
       "      <th>max</th>\n",
       "      <td>61765.589844</td>\n",
       "      <td>1.000000</td>\n",
       "      <td>0.200000</td>\n",
       "      <td>0.880000</td>\n",
       "      <td>0.160000</td>\n",
       "      <td>62156.480469</td>\n",
       "      <td>62245.429688</td>\n",
       "      <td>61624.648438</td>\n",
       "      <td>3.181510e+07</td>\n",
       "    </tr>\n",
       "  </tbody>\n",
       "</table>\n",
       "</div>"
      ],
      "text/plain": [
       "              Close     compound     negative      neutral     positive  \\\n",
       "count   1722.000000  1722.000000  1722.000000  1722.000000  1722.000000   \n",
       "mean   35743.493866    -0.959344     0.131655     0.782468     0.086388   \n",
       "std     9058.745407     0.273282     0.017228     0.022284     0.014618   \n",
       "min    22951.830078    -1.000000     0.070000     0.730000     0.040000   \n",
       "25%    28193.586914    -1.000000     0.120000     0.770000     0.080000   \n",
       "50%    34323.654297    -1.000000     0.130000     0.780000     0.090000   \n",
       "75%    39089.031250    -1.000000     0.140000     0.800000     0.100000   \n",
       "max    61765.589844     1.000000     0.200000     0.880000     0.160000   \n",
       "\n",
       "               Open          High           Low        Volume  \n",
       "count   1722.000000   1722.000000   1722.000000  1.722000e+03  \n",
       "mean   35792.291552  35959.928591  35536.670009  1.989195e+05  \n",
       "std     9068.877720   9101.489910   9007.033788  1.797850e+06  \n",
       "min    23060.390625  23142.960938  22494.609375  1.000000e+02  \n",
       "25%    28217.094727  28334.353027  28068.942871  9.800000e+03  \n",
       "50%    34403.906250  34528.044922  34125.755859  1.290000e+04  \n",
       "75%    39164.603516  39351.420898  38899.116211  1.820000e+04  \n",
       "max    62156.480469  62245.429688  61624.648438  3.181510e+07  "
      ]
     },
     "execution_count": 49,
     "metadata": {},
     "output_type": "execute_result"
    }
   ],
   "source": [
    "stock.describe()"
   ]
  },
  {
   "cell_type": "code",
   "execution_count": 50,
   "id": "7e9631a0",
   "metadata": {},
   "outputs": [
    {
     "name": "stdout",
     "output_type": "stream",
     "text": [
      "<class 'pandas.core.frame.DataFrame'>\n",
      "DatetimeIndex: 1722 entries, 2014-12-31 to 2021-12-31\n",
      "Data columns (total 9 columns):\n",
      " #   Column    Non-Null Count  Dtype  \n",
      "---  ------    --------------  -----  \n",
      " 0   Close     1722 non-null   float64\n",
      " 1   compound  1722 non-null   float64\n",
      " 2   negative  1722 non-null   float64\n",
      " 3   neutral   1722 non-null   float64\n",
      " 4   positive  1722 non-null   float64\n",
      " 5   Open      1722 non-null   float64\n",
      " 6   High      1722 non-null   float64\n",
      " 7   Low       1722 non-null   float64\n",
      " 8   Volume    1722 non-null   float64\n",
      "dtypes: float64(9)\n",
      "memory usage: 134.5 KB\n"
     ]
    }
   ],
   "source": [
    "stock.info()"
   ]
  },
  {
   "cell_type": "markdown",
   "id": "968f1f3d",
   "metadata": {},
   "source": [
    "# EDA of Stock Data"
   ]
  },
  {
   "cell_type": "code",
   "execution_count": 53,
   "id": "67302308",
   "metadata": {},
   "outputs": [
    {
     "data": {
      "text/plain": [
       "Text(0, 0.5, 'Close Price (INR)')"
      ]
     },
     "execution_count": 53,
     "metadata": {},
     "output_type": "execute_result"
    },
    {
     "data": {
      "image/png": "[encoded data removed]",
      "text/plain": [
       "<Figure size 1152x432 with 1 Axes>"
      ]
     },
     "metadata": {
      "needs_background": "light"
     },
     "output_type": "display_data"
    }
   ],
   "source": [
    "plt.figure(figsize=(16,6))\n",
    "stock['Close'].plot()\n",
    "plt.title('Closing Price')\n",
    "plt.xlabel('Date')\n",
    "plt.ylabel('Close Price (INR)')"
   ]
  },
  {
   "cell_type": "code",
   "execution_count": 55,
   "id": "9504e219",
   "metadata": {},
   "outputs": [
    {
     "data": {
      "text/html": [
       "<div>\n",
       "<style scoped>\n",
       "    .dataframe tbody tr th:only-of-type {\n",
       "        vertical-align: middle;\n",
       "    }\n",
       "\n",
       "    .dataframe tbody tr th {\n",
       "        vertical-align: top;\n",
       "    }\n",
       "\n",
       "    .dataframe thead th {\n",
       "        text-align: right;\n",
       "    }\n",
       "</style>\n",
       "<table border=\"1\" class=\"dataframe\">\n",
       "  <thead>\n",
       "    <tr style=\"text-align: right;\">\n",
       "      <th></th>\n",
       "      <th>Close</th>\n",
       "      <th>compound</th>\n",
       "      <th>negative</th>\n",
       "      <th>neutral</th>\n",
       "      <th>positive</th>\n",
       "      <th>Open</th>\n",
       "      <th>High</th>\n",
       "      <th>Low</th>\n",
       "      <th>Volume</th>\n",
       "    </tr>\n",
       "  </thead>\n",
       "  <tbody>\n",
       "    <tr>\n",
       "      <th>2014-12-31</th>\n",
       "      <td>NaN</td>\n",
       "      <td>NaN</td>\n",
       "      <td>NaN</td>\n",
       "      <td>NaN</td>\n",
       "      <td>NaN</td>\n",
       "      <td>NaN</td>\n",
       "      <td>NaN</td>\n",
       "      <td>NaN</td>\n",
       "      <td>NaN</td>\n",
       "    </tr>\n",
       "    <tr>\n",
       "      <th>2015-01-02</th>\n",
       "      <td>NaN</td>\n",
       "      <td>NaN</td>\n",
       "      <td>NaN</td>\n",
       "      <td>NaN</td>\n",
       "      <td>NaN</td>\n",
       "      <td>NaN</td>\n",
       "      <td>NaN</td>\n",
       "      <td>NaN</td>\n",
       "      <td>NaN</td>\n",
       "    </tr>\n",
       "    <tr>\n",
       "      <th>2015-01-05</th>\n",
       "      <td>NaN</td>\n",
       "      <td>NaN</td>\n",
       "      <td>NaN</td>\n",
       "      <td>NaN</td>\n",
       "      <td>NaN</td>\n",
       "      <td>NaN</td>\n",
       "      <td>NaN</td>\n",
       "      <td>NaN</td>\n",
       "      <td>NaN</td>\n",
       "    </tr>\n",
       "    <tr>\n",
       "      <th>2015-01-06</th>\n",
       "      <td>NaN</td>\n",
       "      <td>NaN</td>\n",
       "      <td>NaN</td>\n",
       "      <td>NaN</td>\n",
       "      <td>NaN</td>\n",
       "      <td>NaN</td>\n",
       "      <td>NaN</td>\n",
       "      <td>NaN</td>\n",
       "      <td>NaN</td>\n",
       "    </tr>\n",
       "    <tr>\n",
       "      <th>2015-01-07</th>\n",
       "      <td>NaN</td>\n",
       "      <td>NaN</td>\n",
       "      <td>NaN</td>\n",
       "      <td>NaN</td>\n",
       "      <td>NaN</td>\n",
       "      <td>NaN</td>\n",
       "      <td>NaN</td>\n",
       "      <td>NaN</td>\n",
       "      <td>NaN</td>\n",
       "    </tr>\n",
       "    <tr>\n",
       "      <th>2015-01-08</th>\n",
       "      <td>NaN</td>\n",
       "      <td>NaN</td>\n",
       "      <td>NaN</td>\n",
       "      <td>NaN</td>\n",
       "      <td>NaN</td>\n",
       "      <td>NaN</td>\n",
       "      <td>NaN</td>\n",
       "      <td>NaN</td>\n",
       "      <td>NaN</td>\n",
       "    </tr>\n",
       "    <tr>\n",
       "      <th>2015-01-09</th>\n",
       "      <td>27408.430525</td>\n",
       "      <td>-1.000000</td>\n",
       "      <td>0.128571</td>\n",
       "      <td>0.784286</td>\n",
       "      <td>0.087143</td>\n",
       "      <td>27445.518415</td>\n",
       "      <td>27586.258650</td>\n",
       "      <td>27226.694196</td>\n",
       "      <td>9814.285714</td>\n",
       "    </tr>\n",
       "    <tr>\n",
       "      <th>2015-01-12</th>\n",
       "      <td>27420.694754</td>\n",
       "      <td>-0.714286</td>\n",
       "      <td>0.124286</td>\n",
       "      <td>0.784286</td>\n",
       "      <td>0.091429</td>\n",
       "      <td>27469.169643</td>\n",
       "      <td>27599.604353</td>\n",
       "      <td>27223.514230</td>\n",
       "      <td>9957.142857</td>\n",
       "    </tr>\n",
       "    <tr>\n",
       "      <th>2015-01-13</th>\n",
       "      <td>27354.670480</td>\n",
       "      <td>-0.714286</td>\n",
       "      <td>0.122857</td>\n",
       "      <td>0.784286</td>\n",
       "      <td>0.092857</td>\n",
       "      <td>27482.066964</td>\n",
       "      <td>27561.421317</td>\n",
       "      <td>27195.702846</td>\n",
       "      <td>10014.285714</td>\n",
       "    </tr>\n",
       "    <tr>\n",
       "      <th>2015-01-14</th>\n",
       "      <td>27283.884766</td>\n",
       "      <td>-0.714286</td>\n",
       "      <td>0.124286</td>\n",
       "      <td>0.784286</td>\n",
       "      <td>0.091429</td>\n",
       "      <td>27404.025670</td>\n",
       "      <td>27482.608538</td>\n",
       "      <td>27112.331473</td>\n",
       "      <td>10157.142857</td>\n",
       "    </tr>\n",
       "  </tbody>\n",
       "</table>\n",
       "</div>"
      ],
      "text/plain": [
       "                   Close  compound  negative   neutral  positive  \\\n",
       "2014-12-31           NaN       NaN       NaN       NaN       NaN   \n",
       "2015-01-02           NaN       NaN       NaN       NaN       NaN   \n",
       "2015-01-05           NaN       NaN       NaN       NaN       NaN   \n",
       "2015-01-06           NaN       NaN       NaN       NaN       NaN   \n",
       "2015-01-07           NaN       NaN       NaN       NaN       NaN   \n",
       "2015-01-08           NaN       NaN       NaN       NaN       NaN   \n",
       "2015-01-09  27408.430525 -1.000000  0.128571  0.784286  0.087143   \n",
       "2015-01-12  27420.694754 -0.714286  0.124286  0.784286  0.091429   \n",
       "2015-01-13  27354.670480 -0.714286  0.122857  0.784286  0.092857   \n",
       "2015-01-14  27283.884766 -0.714286  0.124286  0.784286  0.091429   \n",
       "\n",
       "                    Open          High           Low        Volume  \n",
       "2014-12-31           NaN           NaN           NaN           NaN  \n",
       "2015-01-02           NaN           NaN           NaN           NaN  \n",
       "2015-01-05           NaN           NaN           NaN           NaN  \n",
       "2015-01-06           NaN           NaN           NaN           NaN  \n",
       "2015-01-07           NaN           NaN           NaN           NaN  \n",
       "2015-01-08           NaN           NaN           NaN           NaN  \n",
       "2015-01-09  27445.518415  27586.258650  27226.694196   9814.285714  \n",
       "2015-01-12  27469.169643  27599.604353  27223.514230   9957.142857  \n",
       "2015-01-13  27482.066964  27561.421317  27195.702846  10014.285714  \n",
       "2015-01-14  27404.025670  27482.608538  27112.331473  10157.142857  "
      ]
     },
     "execution_count": 55,
     "metadata": {},
     "output_type": "execute_result"
    }
   ],
   "source": [
    "#calculatinf 7 days rolling mean\n",
    "stock.rolling(7).mean().head(10)"
   ]
  },
  {
   "cell_type": "code",
   "execution_count": 56,
   "id": "461a2014",
   "metadata": {},
   "outputs": [
    {
     "data": {
      "text/plain": [
       "<AxesSubplot:>"
      ]
     },
     "execution_count": 56,
     "metadata": {},
     "output_type": "execute_result"
    },
    {
     "data": {
      "image/png": "[encoded data removed]",
      "text/plain": [
       "<Figure size 1152x432 with 1 Axes>"
      ]
     },
     "metadata": {
      "needs_background": "light"
     },
     "output_type": "display_data"
    }
   ],
   "source": [
    "#plotting closing price and 30 days rolling mean of close price \n",
    "plt.figure(figsize=(16,6))\n",
    "stock['Close'].plot()\n",
    "stock.rolling(window=30).mean()['Close'].plot()"
   ]
  },
  {
   "cell_type": "markdown",
   "id": "ae6d4766",
   "metadata": {},
   "source": [
    "# Data Preparation for Modelling"
   ]
  },
  {
   "cell_type": "code",
   "execution_count": 58,
   "id": "483e9d7e",
   "metadata": {},
   "outputs": [
    {
     "name": "stdout",
     "output_type": "stream",
     "text": [
      "Number of records in Training Data: 1376\n",
      "Number of records in Test Data: 346\n"
     ]
    }
   ],
   "source": [
    "# caLcuLating data_to_use\n",
    "percentage_of_data = 1.0\n",
    "data_to_use = int(percentage_of_data*(len(stock)-1))\n",
    "\n",
    "# using 80% of data for training \n",
    "train_end = int(data_to_use*0.8) \n",
    "total_data = len(stock) \n",
    "start = total_data - data_to_use\n",
    "\n",
    "# printing number of records in the training and test datasets \n",
    "print(\"Number of records in Training Data:\", train_end) \n",
    "print(\"Number of records in Test Data:\", total_data - train_end)\n",
    "                      "
   ]
  },
  {
   "cell_type": "code",
   "execution_count": 61,
   "id": "02a52053",
   "metadata": {},
   "outputs": [
    {
     "name": "stdout",
     "output_type": "stream",
     "text": [
      "Close Price:\n"
     ]
    },
    {
     "data": {
      "text/plain": [
       "2015-01-02    27887.900391\n",
       "2015-01-05    27842.320312\n",
       "2015-01-06    26987.460938\n",
       "2015-01-07    26908.820312\n",
       "2015-01-08    27274.710938\n",
       "                  ...     \n",
       "2021-12-27    57420.238281\n",
       "2021-12-28    57897.480469\n",
       "2021-12-29    57806.488281\n",
       "2021-12-30    57794.320312\n",
       "2021-12-31    58253.820312\n",
       "Name: Close, Length: 1721, dtype: float64"
      ]
     },
     "execution_count": 61,
     "metadata": {},
     "output_type": "execute_result"
    }
   ],
   "source": [
    "# predicting one step ahead \n",
    "steps_to_predict = 1\n",
    "\n",
    "# capturing data to be used for each coLumn\n",
    "close_price = stock.iloc[start:total_data,0] #cLose \n",
    "compound = stock.iloc[start:total_data,1] #compound \n",
    "negative = stock.iloc[start:total_data,2] #neg \n",
    "neutral = stock.iloc[start:total_data,3] #neu \n",
    "positive = stock.iloc[start:total_data,4] #pos \n",
    "open_price = stock.iloc[start:total_data,5] #open \n",
    "high = stock.iloc[start:total_data,6] #high\n",
    "low = stock.iloc[start:total_data,7] #Low\n",
    "volume = stock.iloc[start:total_data,8] #voLume\n",
    "\n",
    "# printing cLose price\n",
    "print(\"Close Price:\")\n",
    "close_price"
   ]
  },
  {
   "cell_type": "code",
   "execution_count": 63,
   "id": "6b5953ad",
   "metadata": {},
   "outputs": [
    {
     "data": {
      "text/html": [
       "<div>\n",
       "<style scoped>\n",
       "    .dataframe tbody tr th:only-of-type {\n",
       "        vertical-align: middle;\n",
       "    }\n",
       "\n",
       "    .dataframe tbody tr th {\n",
       "        vertical-align: top;\n",
       "    }\n",
       "\n",
       "    .dataframe thead th {\n",
       "        text-align: right;\n",
       "    }\n",
       "</style>\n",
       "<table border=\"1\" class=\"dataframe\">\n",
       "  <thead>\n",
       "    <tr style=\"text-align: right;\">\n",
       "      <th></th>\n",
       "      <th>close_price</th>\n",
       "      <th>close_price_shifted</th>\n",
       "      <th>compound</th>\n",
       "      <th>compound_shifted</th>\n",
       "      <th>volume</th>\n",
       "      <th>open_price</th>\n",
       "      <th>high</th>\n",
       "      <th>low</th>\n",
       "    </tr>\n",
       "  </thead>\n",
       "  <tbody>\n",
       "    <tr>\n",
       "      <th>2015-01-02</th>\n",
       "      <td>27887.900391</td>\n",
       "      <td>27842.320312</td>\n",
       "      <td>-1.0</td>\n",
       "      <td>-1.0</td>\n",
       "      <td>7400.0</td>\n",
       "      <td>27521.279297</td>\n",
       "      <td>27937.470703</td>\n",
       "      <td>27519.259766</td>\n",
       "    </tr>\n",
       "    <tr>\n",
       "      <th>2015-01-05</th>\n",
       "      <td>27842.320312</td>\n",
       "      <td>26987.460938</td>\n",
       "      <td>-1.0</td>\n",
       "      <td>-1.0</td>\n",
       "      <td>9200.0</td>\n",
       "      <td>27978.429688</td>\n",
       "      <td>28064.490234</td>\n",
       "      <td>27786.849609</td>\n",
       "    </tr>\n",
       "    <tr>\n",
       "      <th>2015-01-06</th>\n",
       "      <td>26987.460938</td>\n",
       "      <td>26908.820312</td>\n",
       "      <td>-1.0</td>\n",
       "      <td>-1.0</td>\n",
       "      <td>14100.0</td>\n",
       "      <td>27694.230469</td>\n",
       "      <td>27698.929688</td>\n",
       "      <td>26937.060547</td>\n",
       "    </tr>\n",
       "    <tr>\n",
       "      <th>2015-01-07</th>\n",
       "      <td>26908.820312</td>\n",
       "      <td>27274.710938</td>\n",
       "      <td>-1.0</td>\n",
       "      <td>-1.0</td>\n",
       "      <td>12200.0</td>\n",
       "      <td>26983.429688</td>\n",
       "      <td>27051.599609</td>\n",
       "      <td>26776.119141</td>\n",
       "    </tr>\n",
       "    <tr>\n",
       "      <th>2015-01-08</th>\n",
       "      <td>27274.710938</td>\n",
       "      <td>27458.380859</td>\n",
       "      <td>-1.0</td>\n",
       "      <td>-1.0</td>\n",
       "      <td>8200.0</td>\n",
       "      <td>27178.769531</td>\n",
       "      <td>27316.410156</td>\n",
       "      <td>27101.939453</td>\n",
       "    </tr>\n",
       "    <tr>\n",
       "      <th>2015-01-09</th>\n",
       "      <td>27458.380859</td>\n",
       "      <td>27585.269531</td>\n",
       "      <td>-1.0</td>\n",
       "      <td>1.0</td>\n",
       "      <td>11100.0</td>\n",
       "      <td>27404.189453</td>\n",
       "      <td>27507.669922</td>\n",
       "      <td>27119.630859</td>\n",
       "    </tr>\n",
       "    <tr>\n",
       "      <th>2015-01-12</th>\n",
       "      <td>27585.269531</td>\n",
       "      <td>27425.730469</td>\n",
       "      <td>1.0</td>\n",
       "      <td>-1.0</td>\n",
       "      <td>7500.0</td>\n",
       "      <td>27523.859375</td>\n",
       "      <td>27620.660156</td>\n",
       "      <td>27323.740234</td>\n",
       "    </tr>\n",
       "    <tr>\n",
       "      <th>2015-01-13</th>\n",
       "      <td>27425.730469</td>\n",
       "      <td>27346.820312</td>\n",
       "      <td>-1.0</td>\n",
       "      <td>-1.0</td>\n",
       "      <td>7800.0</td>\n",
       "      <td>27611.560547</td>\n",
       "      <td>27670.189453</td>\n",
       "      <td>27324.580078</td>\n",
       "    </tr>\n",
       "    <tr>\n",
       "      <th>2015-01-14</th>\n",
       "      <td>27346.820312</td>\n",
       "      <td>28075.550781</td>\n",
       "      <td>-1.0</td>\n",
       "      <td>-1.0</td>\n",
       "      <td>10200.0</td>\n",
       "      <td>27432.140625</td>\n",
       "      <td>27512.800781</td>\n",
       "      <td>27203.250000</td>\n",
       "    </tr>\n",
       "    <tr>\n",
       "      <th>2015-01-15</th>\n",
       "      <td>28075.550781</td>\n",
       "      <td>28121.890625</td>\n",
       "      <td>-1.0</td>\n",
       "      <td>-1.0</td>\n",
       "      <td>16700.0</td>\n",
       "      <td>27831.160156</td>\n",
       "      <td>28194.609375</td>\n",
       "      <td>27703.699219</td>\n",
       "    </tr>\n",
       "  </tbody>\n",
       "</table>\n",
       "</div>"
      ],
      "text/plain": [
       "             close_price  close_price_shifted  compound  compound_shifted  \\\n",
       "2015-01-02  27887.900391         27842.320312      -1.0              -1.0   \n",
       "2015-01-05  27842.320312         26987.460938      -1.0              -1.0   \n",
       "2015-01-06  26987.460938         26908.820312      -1.0              -1.0   \n",
       "2015-01-07  26908.820312         27274.710938      -1.0              -1.0   \n",
       "2015-01-08  27274.710938         27458.380859      -1.0              -1.0   \n",
       "2015-01-09  27458.380859         27585.269531      -1.0               1.0   \n",
       "2015-01-12  27585.269531         27425.730469       1.0              -1.0   \n",
       "2015-01-13  27425.730469         27346.820312      -1.0              -1.0   \n",
       "2015-01-14  27346.820312         28075.550781      -1.0              -1.0   \n",
       "2015-01-15  28075.550781         28121.890625      -1.0              -1.0   \n",
       "\n",
       "             volume    open_price          high           low  \n",
       "2015-01-02   7400.0  27521.279297  27937.470703  27519.259766  \n",
       "2015-01-05   9200.0  27978.429688  28064.490234  27786.849609  \n",
       "2015-01-06  14100.0  27694.230469  27698.929688  26937.060547  \n",
       "2015-01-07  12200.0  26983.429688  27051.599609  26776.119141  \n",
       "2015-01-08   8200.0  27178.769531  27316.410156  27101.939453  \n",
       "2015-01-09  11100.0  27404.189453  27507.669922  27119.630859  \n",
       "2015-01-12   7500.0  27523.859375  27620.660156  27323.740234  \n",
       "2015-01-13   7800.0  27611.560547  27670.189453  27324.580078  \n",
       "2015-01-14  10200.0  27432.140625  27512.800781  27203.250000  \n",
       "2015-01-15  16700.0  27831.160156  28194.609375  27703.699219  "
      ]
     },
     "execution_count": 63,
     "metadata": {},
     "output_type": "execute_result"
    }
   ],
   "source": [
    "# shifting next day close \n",
    "close_price_shifted = close_price.shift(-1)\n",
    "                    \n",
    "# shifting next day compound \n",
    "compound_shifted = compound.shift(-1)\n",
    "\n",
    "# concatenating the captured training data into a dataframe\n",
    "data = pd.concat([close_price, close_price_shifted, compound, compound_shifted, volume, open_price, high, low], axis=1)\n",
    "\n",
    "# setting column names of the revised stock data\n",
    "data.columns = ['close_price', 'close_price_shifted', 'compound', 'compound_shifted','volume', 'open_price', 'high', 'low']\n",
    "                    \n",
    "# dropping nulls\n",
    "data = data.dropna() \n",
    "data.head(10)"
   ]
  },
  {
   "cell_type": "markdown",
   "id": "26ca18cf",
   "metadata": {},
   "source": [
    "# Setting target variable and feature dataset"
   ]
  },
  {
   "cell_type": "code",
   "execution_count": 115,
   "id": "09784756",
   "metadata": {},
   "outputs": [
    {
     "data": {
      "text/plain": [
       "2015-01-02    27842.320312\n",
       "2015-01-05    26987.460938\n",
       "2015-01-06    26908.820312\n",
       "2015-01-07    27274.710938\n",
       "2015-01-08    27458.380859\n",
       "                  ...     \n",
       "2021-12-24    57420.238281\n",
       "2021-12-27    57897.480469\n",
       "2021-12-28    57806.488281\n",
       "2021-12-29    57794.320312\n",
       "2021-12-30    58253.820312\n",
       "Name: close_price_shifted, Length: 1720, dtype: float64"
      ]
     },
     "execution_count": 115,
     "metadata": {},
     "output_type": "execute_result"
    }
   ],
   "source": [
    "y=data['close_price_shifted']\n",
    "y"
   ]
  },
  {
   "cell_type": "code",
   "execution_count": 116,
   "id": "b0b42c1c",
   "metadata": {},
   "outputs": [
    {
     "data": {
      "text/html": [
       "<div>\n",
       "<style scoped>\n",
       "    .dataframe tbody tr th:only-of-type {\n",
       "        vertical-align: middle;\n",
       "    }\n",
       "\n",
       "    .dataframe tbody tr th {\n",
       "        vertical-align: top;\n",
       "    }\n",
       "\n",
       "    .dataframe thead th {\n",
       "        text-align: right;\n",
       "    }\n",
       "</style>\n",
       "<table border=\"1\" class=\"dataframe\">\n",
       "  <thead>\n",
       "    <tr style=\"text-align: right;\">\n",
       "      <th></th>\n",
       "      <th>close_price</th>\n",
       "      <th>compound</th>\n",
       "      <th>compound_shifted</th>\n",
       "      <th>volume</th>\n",
       "      <th>open_price</th>\n",
       "      <th>high</th>\n",
       "      <th>low</th>\n",
       "    </tr>\n",
       "  </thead>\n",
       "  <tbody>\n",
       "    <tr>\n",
       "      <th>2015-01-02</th>\n",
       "      <td>27887.900391</td>\n",
       "      <td>-1.0</td>\n",
       "      <td>-1.0</td>\n",
       "      <td>7400.0</td>\n",
       "      <td>27521.279297</td>\n",
       "      <td>27937.470703</td>\n",
       "      <td>27519.259766</td>\n",
       "    </tr>\n",
       "    <tr>\n",
       "      <th>2015-01-05</th>\n",
       "      <td>27842.320312</td>\n",
       "      <td>-1.0</td>\n",
       "      <td>-1.0</td>\n",
       "      <td>9200.0</td>\n",
       "      <td>27978.429688</td>\n",
       "      <td>28064.490234</td>\n",
       "      <td>27786.849609</td>\n",
       "    </tr>\n",
       "    <tr>\n",
       "      <th>2015-01-06</th>\n",
       "      <td>26987.460938</td>\n",
       "      <td>-1.0</td>\n",
       "      <td>-1.0</td>\n",
       "      <td>14100.0</td>\n",
       "      <td>27694.230469</td>\n",
       "      <td>27698.929688</td>\n",
       "      <td>26937.060547</td>\n",
       "    </tr>\n",
       "    <tr>\n",
       "      <th>2015-01-07</th>\n",
       "      <td>26908.820312</td>\n",
       "      <td>-1.0</td>\n",
       "      <td>-1.0</td>\n",
       "      <td>12200.0</td>\n",
       "      <td>26983.429688</td>\n",
       "      <td>27051.599609</td>\n",
       "      <td>26776.119141</td>\n",
       "    </tr>\n",
       "    <tr>\n",
       "      <th>2015-01-08</th>\n",
       "      <td>27274.710938</td>\n",
       "      <td>-1.0</td>\n",
       "      <td>-1.0</td>\n",
       "      <td>8200.0</td>\n",
       "      <td>27178.769531</td>\n",
       "      <td>27316.410156</td>\n",
       "      <td>27101.939453</td>\n",
       "    </tr>\n",
       "    <tr>\n",
       "      <th>...</th>\n",
       "      <td>...</td>\n",
       "      <td>...</td>\n",
       "      <td>...</td>\n",
       "      <td>...</td>\n",
       "      <td>...</td>\n",
       "      <td>...</td>\n",
       "      <td>...</td>\n",
       "    </tr>\n",
       "    <tr>\n",
       "      <th>2021-12-24</th>\n",
       "      <td>57124.308594</td>\n",
       "      <td>-1.0</td>\n",
       "      <td>-1.0</td>\n",
       "      <td>6400.0</td>\n",
       "      <td>57567.109375</td>\n",
       "      <td>57623.691406</td>\n",
       "      <td>56813.421875</td>\n",
       "    </tr>\n",
       "    <tr>\n",
       "      <th>2021-12-27</th>\n",
       "      <td>57420.238281</td>\n",
       "      <td>-1.0</td>\n",
       "      <td>-1.0</td>\n",
       "      <td>5700.0</td>\n",
       "      <td>56948.328125</td>\n",
       "      <td>57512.011719</td>\n",
       "      <td>56543.078125</td>\n",
       "    </tr>\n",
       "    <tr>\n",
       "      <th>2021-12-28</th>\n",
       "      <td>57897.480469</td>\n",
       "      <td>-1.0</td>\n",
       "      <td>-1.0</td>\n",
       "      <td>5500.0</td>\n",
       "      <td>57751.210938</td>\n",
       "      <td>57952.480469</td>\n",
       "      <td>57650.289062</td>\n",
       "    </tr>\n",
       "    <tr>\n",
       "      <th>2021-12-29</th>\n",
       "      <td>57806.488281</td>\n",
       "      <td>-1.0</td>\n",
       "      <td>-1.0</td>\n",
       "      <td>5300.0</td>\n",
       "      <td>57892.308594</td>\n",
       "      <td>58097.070312</td>\n",
       "      <td>57684.578125</td>\n",
       "    </tr>\n",
       "    <tr>\n",
       "      <th>2021-12-30</th>\n",
       "      <td>57794.320312</td>\n",
       "      <td>-1.0</td>\n",
       "      <td>-1.0</td>\n",
       "      <td>7300.0</td>\n",
       "      <td>57755.398438</td>\n",
       "      <td>58010.031250</td>\n",
       "      <td>57578.988281</td>\n",
       "    </tr>\n",
       "  </tbody>\n",
       "</table>\n",
       "<p>1720 rows × 7 columns</p>\n",
       "</div>"
      ],
      "text/plain": [
       "             close_price  compound  compound_shifted   volume    open_price  \\\n",
       "2015-01-02  27887.900391      -1.0              -1.0   7400.0  27521.279297   \n",
       "2015-01-05  27842.320312      -1.0              -1.0   9200.0  27978.429688   \n",
       "2015-01-06  26987.460938      -1.0              -1.0  14100.0  27694.230469   \n",
       "2015-01-07  26908.820312      -1.0              -1.0  12200.0  26983.429688   \n",
       "2015-01-08  27274.710938      -1.0              -1.0   8200.0  27178.769531   \n",
       "...                  ...       ...               ...      ...           ...   \n",
       "2021-12-24  57124.308594      -1.0              -1.0   6400.0  57567.109375   \n",
       "2021-12-27  57420.238281      -1.0              -1.0   5700.0  56948.328125   \n",
       "2021-12-28  57897.480469      -1.0              -1.0   5500.0  57751.210938   \n",
       "2021-12-29  57806.488281      -1.0              -1.0   5300.0  57892.308594   \n",
       "2021-12-30  57794.320312      -1.0              -1.0   7300.0  57755.398438   \n",
       "\n",
       "                    high           low  \n",
       "2015-01-02  27937.470703  27519.259766  \n",
       "2015-01-05  28064.490234  27786.849609  \n",
       "2015-01-06  27698.929688  26937.060547  \n",
       "2015-01-07  27051.599609  26776.119141  \n",
       "2015-01-08  27316.410156  27101.939453  \n",
       "...                  ...           ...  \n",
       "2021-12-24  57623.691406  56813.421875  \n",
       "2021-12-27  57512.011719  56543.078125  \n",
       "2021-12-28  57952.480469  57650.289062  \n",
       "2021-12-29  58097.070312  57684.578125  \n",
       "2021-12-30  58010.031250  57578.988281  \n",
       "\n",
       "[1720 rows x 7 columns]"
      ]
     },
     "execution_count": 116,
     "metadata": {},
     "output_type": "execute_result"
    }
   ],
   "source": [
    "## Setting feature dataset for prediction\n",
    "cols=['close_price','compound','compound_shifted','volume','open_price','high','low']\n",
    "x=data[cols]\n",
    "x"
   ]
  },
  {
   "cell_type": "markdown",
   "id": "5083206b",
   "metadata": {},
   "source": [
    "# Scaling the target and feature Dataset"
   ]
  },
  {
   "cell_type": "code",
   "execution_count": 117,
   "id": "33b5336a",
   "metadata": {},
   "outputs": [],
   "source": [
    "from sklearn import preprocessing,metrics\n",
    "from sklearn.preprocessing import MinMaxScaler"
   ]
  },
  {
   "cell_type": "code",
   "execution_count": 118,
   "id": "5a1154bb",
   "metadata": {},
   "outputs": [
    {
     "data": {
      "text/plain": [
       "(array([[-0.74565359, -1.        , -1.        , ..., -0.77179873,\n",
       "         -0.75477202, -0.74318194],\n",
       "        [-0.74800224, -1.        , -1.        , ..., -0.74841274,\n",
       "         -0.74827526, -0.72950499],\n",
       "        [-0.79205154, -1.        , -1.        , ..., -0.76295124,\n",
       "         -0.76697283, -0.77293909],\n",
       "        ...,\n",
       "        [ 0.8006836 , -1.        , -1.        , ...,  0.77464398,\n",
       "          0.78042567,  0.79686402],\n",
       "        [ 0.79599495, -1.        , -1.        , ...,  0.78186198,\n",
       "          0.7878211 ,  0.79861659],\n",
       "        [ 0.79536795, -1.        , -1.        , ...,  0.7748582 ,\n",
       "          0.78336926,  0.79321972]]),\n",
       " array([[-0.74800224],\n",
       "        [-0.79205154],\n",
       "        [-0.79610374],\n",
       "        ...,\n",
       "        [ 0.79599495],\n",
       "        [ 0.79536795],\n",
       "        [ 0.81904512]]))"
      ]
     },
     "execution_count": 118,
     "metadata": {},
     "output_type": "execute_result"
    }
   ],
   "source": [
    " # scaling the feature dataset\n",
    "scaler_x = preprocessing.MinMaxScaler (feature_range=(-1, 1))\n",
    "x = np.array(x).reshape((len(x) ,len(cols)))\n",
    "x = scaler_x.fit_transform(x)\n",
    "\n",
    "# scaling the target variable\n",
    "scaler_y = preprocessing.MinMaxScaler (feature_range=(-1, 1))\n",
    "y = np.array (y).reshape ((len( y), 1))\n",
    "y = scaler_y.fit_transform (y)\n",
    "\n",
    "# displaying the scaled feature dataset and the target variable \n",
    "x, y"
   ]
  },
  {
   "cell_type": "markdown",
   "id": "0a513c8f",
   "metadata": {},
   "source": [
    "# Dividing data into training and testing set"
   ]
  },
  {
   "cell_type": "code",
   "execution_count": 119,
   "id": "01f283c1",
   "metadata": {},
   "outputs": [
    {
     "name": "stdout",
     "output_type": "stream",
     "text": [
      "Number of rows and columns in the Training set X: (1376, 7) and y: (1376, 1)\n",
      "Number of rows and columns in the Test set X: (343, 7) and y: (343, 1)\n"
     ]
    }
   ],
   "source": [
    "# preparing training and test dataset \n",
    "X_train = x[0 : train_end,]\n",
    "X_test = x[train_end+1 : len(x),] \n",
    "y_train = y[0 : train_end]\n",
    "y_test = y[train_end+1 : len(y)]\n",
    "\n",
    "# printing the shape of the training and the test datasets\n",
    "print('Number of rows and columns in the Training set X:', X_train.shape, 'and y:', y_train.shape) \n",
    "print('Number of rows and columns in the Test set X:', X_test.shape, 'and y:', y_test.shape)\n",
    "                "
   ]
  },
  {
   "cell_type": "markdown",
   "id": "527807a6",
   "metadata": {},
   "source": [
    "# Reshaping Feature dataset"
   ]
  },
  {
   "cell_type": "code",
   "execution_count": 120,
   "id": "a8fb8244",
   "metadata": {},
   "outputs": [
    {
     "name": "stdout",
     "output_type": "stream",
     "text": [
      "Shape of Training set X: (1376, 7, 1)\n",
      "Shape of Test set X: (343, 7, 1)\n"
     ]
    }
   ],
   "source": [
    "X_train = X_train.reshape (X_train.shape + (1,))\n",
    "X_test = X_test.reshape(X_test.shape + (1,))\n",
    "\n",
    "# printing the re-shaped feature dataset \n",
    "print('Shape of Training set X:', X_train.shape) \n",
    "print('Shape of Test set X:', X_test.shape)"
   ]
  },
  {
   "cell_type": "markdown",
   "id": "e2bdce6b",
   "metadata": {},
   "source": [
    "# Stock Data Modelling"
   ]
  },
  {
   "cell_type": "code",
   "execution_count": 121,
   "id": "70e8482a",
   "metadata": {},
   "outputs": [],
   "source": [
    "from keras.models import Sequential\n",
    "from keras.layers import Dense, LSTM, Dropout, Activation"
   ]
  },
  {
   "cell_type": "code",
   "execution_count": 122,
   "id": "b4d51878",
   "metadata": {},
   "outputs": [
    {
     "name": "stdout",
     "output_type": "stream",
     "text": [
      "Model: \"sequential_1\"\n",
      "_________________________________________________________________\n",
      " Layer (type)                Output Shape              Param #   \n",
      "=================================================================\n",
      " lstm_3 (LSTM)               (None, 7, 100)            40800     \n",
      "                                                                 \n",
      " dropout_3 (Dropout)         (None, 7, 100)            0         \n",
      "                                                                 \n",
      " lstm_4 (LSTM)               (None, 7, 100)            80400     \n",
      "                                                                 \n",
      " dropout_4 (Dropout)         (None, 7, 100)            0         \n",
      "                                                                 \n",
      " lstm_5 (LSTM)               (None, 100)               80400     \n",
      "                                                                 \n",
      " dropout_5 (Dropout)         (None, 100)               0         \n",
      "                                                                 \n",
      " dense_1 (Dense)             (None, 1)                 101       \n",
      "                                                                 \n",
      "=================================================================\n",
      "Total params: 201,701\n",
      "Trainable params: 201,701\n",
      "Non-trainable params: 0\n",
      "_________________________________________________________________\n"
     ]
    }
   ],
   "source": [
    "# setting the seed to achieve consistent predictions at each execution\n",
    "np.random.seed(2020)\n",
    "\n",
    "# setting the model architecture\n",
    "model=Sequential() \n",
    "model.add(LSTM(100,return_sequences=True,activation='tanh',input_shape=(len(cols),1))) \n",
    "model.add(Dropout(0.3))\n",
    "model.add(LSTM(100,return_sequences=True,activation='tanh'))\n",
    "model.add(Dropout(0.3)) \n",
    "model.add(LSTM(100,activation='tanh'))\n",
    "model.add(Dropout(0.3)) \n",
    "model.add(Dense(1))\n",
    "\n",
    "# printing the model summary \n",
    "model. summary()"
   ]
  },
  {
   "cell_type": "code",
   "execution_count": 123,
   "id": "aab26ab3",
   "metadata": {},
   "outputs": [],
   "source": [
    "#compiling the model\n",
    "model.compile(loss='mse', optimizer='adam')"
   ]
  },
  {
   "cell_type": "code",
   "execution_count": 125,
   "id": "8aa8025b",
   "metadata": {},
   "outputs": [
    {
     "name": "stdout",
     "output_type": "stream",
     "text": [
      "Epoch 1/10\n",
      "138/138 [==============================] - 3s 22ms/step - loss: 0.0029 - val_loss: 0.0012\n",
      "Epoch 2/10\n",
      "138/138 [==============================] - 3s 20ms/step - loss: 0.0030 - val_loss: 0.0011\n",
      "Epoch 3/10\n",
      "138/138 [==============================] - 3s 20ms/step - loss: 0.0029 - val_loss: 0.0014\n",
      "Epoch 4/10\n",
      "138/138 [==============================] - 4s 26ms/step - loss: 0.0029 - val_loss: 0.0012\n",
      "Epoch 5/10\n",
      "138/138 [==============================] - 3s 20ms/step - loss: 0.0025 - val_loss: 0.0012\n",
      "Epoch 6/10\n",
      "138/138 [==============================] - 3s 20ms/step - loss: 0.0024 - val_loss: 0.0012\n",
      "Epoch 7/10\n",
      "138/138 [==============================] - 3s 22ms/step - loss: 0.0025 - val_loss: 0.0014\n",
      "Epoch 8/10\n",
      "138/138 [==============================] - 4s 26ms/step - loss: 0.0021 - val_loss: 0.0015\n",
      "Epoch 9/10\n",
      "138/138 [==============================] - 3s 20ms/step - loss: 0.0027 - val_loss: 0.0014\n",
      "Epoch 10/10\n",
      "138/138 [==============================] - 4s 26ms/step - loss: 0.0022 - val_loss: 0.0013\n"
     ]
    },
    {
     "data": {
      "text/plain": [
       "<keras.callbacks.History at 0x1ae8f9e31c0>"
      ]
     },
     "execution_count": 125,
     "metadata": {},
     "output_type": "execute_result"
    }
   ],
   "source": [
    "#fitting the model using training set\n",
    "model.fit(X_train,y_train,validation_split=0.2,epochs=10,batch_size=8,verbose=1)"
   ]
  },
  {
   "cell_type": "markdown",
   "id": "675c45f5",
   "metadata": {},
   "source": [
    "# Saving the model to disk"
   ]
  },
  {
   "cell_type": "code",
   "execution_count": 126,
   "id": "d523acac",
   "metadata": {},
   "outputs": [
    {
     "name": "stdout",
     "output_type": "stream",
     "text": [
      "Model is saved to the disk\n"
     ]
    }
   ],
   "source": [
    "# saving the model as a json file\n",
    "model_json = model.to_json()\n",
    "with open('model.json', 'w') as json_file: \n",
    "    json_file.write(model_json) \n",
    "# serialize weights to HDF5 \n",
    "model.save_weights('mode13.h5') \n",
    "print('Model is saved to the disk') "
   ]
  },
  {
   "cell_type": "markdown",
   "id": "9b251cce",
   "metadata": {},
   "source": [
    "# Predictions "
   ]
  },
  {
   "cell_type": "code",
   "execution_count": 127,
   "id": "5d53cc1f",
   "metadata": {},
   "outputs": [
    {
     "name": "stdout",
     "output_type": "stream",
     "text": [
      "11/11 [==============================] - 3s 13ms/step\n"
     ]
    }
   ],
   "source": [
    "predictions = model.predict(X_test)"
   ]
  },
  {
   "cell_type": "code",
   "execution_count": 128,
   "id": "608b8901",
   "metadata": {},
   "outputs": [],
   "source": [
    "predictions = scaler_y.inverse_transform(np.array(predictions).reshape((len(predictions),1)))"
   ]
  },
  {
   "cell_type": "code",
   "execution_count": 129,
   "id": "e607c531",
   "metadata": {},
   "outputs": [
    {
     "name": "stdout",
     "output_type": "stream",
     "text": [
      "predicted values\n"
     ]
    },
    {
     "data": {
      "text/plain": [
       "array([[38494.473],\n",
       "       [38267.047],\n",
       "       [38036.44 ],\n",
       "       [38388.375],\n",
       "       [38814.473]], dtype=float32)"
      ]
     },
     "execution_count": 129,
     "metadata": {},
     "output_type": "execute_result"
    }
   ],
   "source": [
    "#printitng predictions\n",
    "print('predicted values')\n",
    "predictions[0:5]"
   ]
  },
  {
   "cell_type": "markdown",
   "id": "418214d3",
   "metadata": {},
   "source": [
    "# Model Evaluation"
   ]
  },
  {
   "cell_type": "code",
   "execution_count": 130,
   "id": "f91f4475",
   "metadata": {},
   "outputs": [
    {
     "name": "stdout",
     "output_type": "stream",
     "text": [
      "1376/1376 [==============================] - 7s 5ms/step - loss: 4.8760e-04\n",
      "343/343 [==============================] - 2s 6ms/step - loss: 0.0258\n",
      "Train Loss = 0.0005\n",
      "Test Loss = 0.0258\n"
     ]
    }
   ],
   "source": [
    "# caLcuLating the training mean-squared-error\n",
    "train_loss = model.evaluate(X_train, y_train, batch_size = 1)\n",
    "\n",
    "\n",
    "# caLcuLating the test mean-squared-error\n",
    "test_loss = model.evaluate(X_test, y_test, batch_size = 1)\n",
    "\n",
    "\n",
    "# printing the training and the test mean-squared-errors \n",
    "print('Train Loss =', round(train_loss,4))\n",
    "print('Test Loss =', round(test_loss,4))"
   ]
  },
  {
   "cell_type": "code",
   "execution_count": 131,
   "id": "8737300d",
   "metadata": {},
   "outputs": [
    {
     "name": "stdout",
     "output_type": "stream",
     "text": [
      "Root Mean Square Error (sklearn.metrics)= 53506.2487\n"
     ]
    }
   ],
   "source": [
    "# caLcuLating root mean squared error using skLearn.metrics package \n",
    "rmse = metrics.mean_squared_error(y_test, predictions)\n",
    "print('Root Mean Square Error (sklearn.metrics)=', round(np.sqrt(rmse),4))"
   ]
  },
  {
   "cell_type": "markdown",
   "id": "7eedf6bf",
   "metadata": {},
   "source": [
    "# Plotting predictions against unseen data"
   ]
  },
  {
   "cell_type": "code",
   "execution_count": 132,
   "id": "d3ba57ee",
   "metadata": {},
   "outputs": [],
   "source": [
    "X_test = scaler_x.inverse_transform(np.array(X_test).reshape((len(X_test), len(cols))))\n",
    "\n",
    "# unscaling the test y dataset, y_test \n",
    "y_train = scaler_y.inverse_transform(np.array(y_train).reshape((len(y_train), 1))) \n",
    "y_test = scaler_y.inverse_transform(np.array(y_test).reshape((len(y_test), 1)))\n"
   ]
  },
  {
   "cell_type": "code",
   "execution_count": 133,
   "id": "39fdf22a",
   "metadata": {},
   "outputs": [
    {
     "data": {
      "image/png": "[encoded data removed]",
      "text/plain": [
       "<Figure size 1152x432 with 1 Axes>"
      ]
     },
     "metadata": {
      "needs_background": "light"
     },
     "output_type": "display_data"
    }
   ],
   "source": [
    "# plotting \n",
    "plt.figure(figsize=(16,6))\n",
    "\n",
    "# plt.plota-row[0] for row in y_train], Label=\"Training Close Price\")\n",
    "plt.plot(predictions, label=\"Predicted Close Price\")\n",
    "plt.plot([row[0] for row in y_test], label=\"Testing Close Price\")\n",
    "plt.legend(loc='upper center', bbox_to_anchor=(0.5, -0.05), fancybox=True, shadow=True, ncol=2) \n",
    "plt.show()"
   ]
  },
  {
   "cell_type": "markdown",
   "id": "e5ad40d8",
   "metadata": {},
   "source": [
    "As you can see the model did quite a good job in prediction of the close price"
   ]
  },
  {
   "cell_type": "code",
   "execution_count": null,
   "id": "c5cf885d",
   "metadata": {},
   "outputs": [],
   "source": []
  }
 ],
 "metadata": {
  "kernelspec": {
   "display_name": "Python 3 (ipykernel)",
   "language": "python",
   "name": "python3"
  },
  "language_info": {
   "codemirror_mode": {
    "name": "ipython",
    "version": 3
   },
   "file_extension": ".py",
   "mimetype": "text/x-python",
   "name": "python",
   "nbconvert_exporter": "python",
   "pygments_lexer": "ipython3",
   "version": "3.9.12"
  }
 },
 "nbformat": 4,
 "nbformat_minor": 5
}
